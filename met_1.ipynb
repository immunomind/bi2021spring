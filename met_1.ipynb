{
 "cells": [
  {
   "cell_type": "code",
   "execution_count": 2,
   "id": "deadly-friend",
   "metadata": {},
   "outputs": [],
   "source": [
    "import numpy as np\n",
    "import pandas as pd\n",
    "import scanpy as sc"
   ]
  },
  {
   "cell_type": "code",
   "execution_count": 3,
   "id": "extended-respect",
   "metadata": {},
   "outputs": [
    {
     "name": "stdout",
     "output_type": "stream",
     "text": [
      "scanpy==1.7.0 anndata==0.7.5 umap==0.5.1 numpy==1.20.1 scipy==1.6.1 pandas==1.2.2 scikit-learn==0.24.1 statsmodels==0.12.2 python-igraph==0.8.3 leidenalg==0.8.3\n"
     ]
    }
   ],
   "source": [
    "sc.settings.verbosity = 3             # verbosity: errors (0), warnings (1), info (2), hints (3)\n",
    "sc.logging.print_header()\n",
    "sc.settings.set_figure_params(dpi=80, facecolor='white')"
   ]
  },
  {
   "cell_type": "code",
   "execution_count": null,
   "id": "secret-therapist",
   "metadata": {},
   "outputs": [],
   "source": [
    "!mkdir large_screen_data\n",
    "# matrix from browser https://www.ncbi.nlm.nih.gov/geo/download/?acc=GSM4150378&format=file&file=GSM4150378%5FsciPlex3%5FA549%5FMCF7%5FK562%5Fscreen%5FUMI%2Ecount%2Ematrix%2Egz\n",
    "# cell annotations https://www.ncbi.nlm.nih.gov/geo/download/?acc=GSM4150378&format=file&file=GSM4150378%5FsciPlex3%5FA549%5FMCF7%5FK562%5Fscreen%5Fcell%2Eannotations%2Etxt%2Egz\n",
    "# gene annotations https://www.ncbi.nlm.nih.gov/geo/download/?acc=GSM4150378&format=file&file=GSM4150378%5FsciPlex3%5FA549%5FMCF7%5FK562%5Fscreen%5Fgene%2Eannotations%2Etxt%2Egz"
   ]
  },
  {
   "cell_type": "code",
   "execution_count": 1,
   "id": "cordless-retrieval",
   "metadata": {},
   "outputs": [
    {
     "name": "stdout",
     "output_type": "stream",
     "text": [
      "1007419688 /home/maxim/large_screen_data/large_screen_matrix.matrix\r\n"
     ]
    }
   ],
   "source": [
    "!wc -l /home/maxim/large_screen_data/large_screen_matrix.matrix # number of values "
   ]
  },
  {
   "cell_type": "code",
   "execution_count": 2,
   "id": "center-questionnaire",
   "metadata": {},
   "outputs": [
    {
     "name": "stdout",
     "output_type": "stream",
     "text": [
      "110981\r\n"
     ]
    }
   ],
   "source": [
    "!awk 'BEGIN{max=0}{if(($1)>max)  max=($1)}END {print max}' /home/maxim/large_screen_data/large_screen_matrix.matrix\n",
    "# number of rows"
   ]
  },
  {
   "cell_type": "code",
   "execution_count": 3,
   "id": "constant-impossible",
   "metadata": {},
   "outputs": [
    {
     "name": "stdout",
     "output_type": "stream",
     "text": [
      "matrix\r\n"
     ]
    }
   ],
   "source": [
    "!awk 'BEGIN{max=0}{if(($2)>max)  max=($2)}END {print max}' /home/maxim/large_screen_data/large_screen_matrix.matrix\n",
    "# number of columns "
   ]
  },
  {
   "cell_type": "code",
   "execution_count": 3,
   "id": "plastic-ladder",
   "metadata": {},
   "outputs": [
    {
     "name": "stdout",
     "output_type": "stream",
     "text": [
      "^C\n",
      "^C\n"
     ]
    }
   ],
   "source": [
    "!sed -i '1s/^/110981 799317 1007419688\\n/' /home/maxim/large_screen_data/large_screen_matrix.matrix\n",
    "!sed -i '1s/^/%\\n/' /home/maxim/large_screen_data/large_screen_matrix.matrix\n",
    "!sed -i '1s/^/%%MatrixMarket matrix coordinate real general\\n/' /home/maxim/large_screen_data/large_screen_matrix.matrix"
   ]
  },
  {
   "cell_type": "code",
   "execution_count": 8,
   "id": "smooth-mustang",
   "metadata": {},
   "outputs": [],
   "source": [
    "!mv /home/maxim/large_screen_data/large_screen_matrix.matrix matrix.mtx"
   ]
  },
  {
   "cell_type": "code",
   "execution_count": 9,
   "id": "provincial-battle",
   "metadata": {},
   "outputs": [],
   "source": [
    "!gzip matrix.mtx"
   ]
  },
  {
   "cell_type": "code",
   "execution_count": 6,
   "id": "incomplete-fishing",
   "metadata": {},
   "outputs": [
    {
     "name": "stdout",
     "output_type": "stream",
     "text": [
      "mkdir: невозможно создать каталог «write»: Файл существует\r\n"
     ]
    }
   ],
   "source": [
    "!cd large_screen_data\n",
    "!mkdir write\n",
    "results_file = 'write/large_screen.h5ad'"
   ]
  },
  {
   "cell_type": "code",
   "execution_count": null,
   "id": "automotive-slovak",
   "metadata": {},
   "outputs": [],
   "source": [
    "adata = sc.read_10x_mtx(\n",
    "    'large_screen_data/', \n",
    "    cache=True)  "
   ]
  },
  {
   "cell_type": "code",
   "execution_count": null,
   "id": "muslim-eclipse",
   "metadata": {},
   "outputs": [],
   "source": []
  },
  {
   "cell_type": "code",
   "execution_count": null,
   "id": "regulated-explorer",
   "metadata": {},
   "outputs": [],
   "source": []
  }
 ],
 "metadata": {
  "kernelspec": {
   "display_name": "Python 3",
   "language": "python",
   "name": "python3"
  },
  "language_info": {
   "codemirror_mode": {
    "name": "ipython",
    "version": 3
   },
   "file_extension": ".py",
   "mimetype": "text/x-python",
   "name": "python",
   "nbconvert_exporter": "python",
   "pygments_lexer": "ipython3",
   "version": "3.7.7"
  }
 },
 "nbformat": 4,
 "nbformat_minor": 5
}
