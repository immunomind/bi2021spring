{
 "cells": [
  {
   "cell_type": "code",
   "execution_count": 2,
   "id": "permanent-discipline",
   "metadata": {},
   "outputs": [],
   "source": [
    "import pandas as pd\n",
    "import numpy as np\n",
    "import scanpy as sc\n",
    "import warnings"
   ]
  },
  {
   "cell_type": "code",
   "execution_count": 3,
   "id": "intense-marketplace",
   "metadata": {},
   "outputs": [],
   "source": [
    "warnings.filterwarnings('ignore')"
   ]
  },
  {
   "cell_type": "markdown",
   "id": "anticipated-progress",
   "metadata": {},
   "source": [
    "# Preprocessing and clustering"
   ]
  },
  {
   "cell_type": "code",
   "execution_count": 4,
   "id": "quick-technology",
   "metadata": {},
   "outputs": [
    {
     "name": "stdout",
     "output_type": "stream",
     "text": [
      "scanpy==1.7.1 anndata==0.7.5 umap==0.5.1 numpy==1.19.2 scipy==1.6.1 pandas==1.2.2 scikit-learn==0.23.2 statsmodels==0.12.2\n"
     ]
    }
   ],
   "source": [
    "sc.settings.verbosity = 3\n",
    "sc.logging.print_header()\n",
    "sc.settings.set_figure_params(dpi=80, \n",
    "                              facecolor='white',\n",
    "                              figsize=(14, 10))"
   ]
  },
  {
   "cell_type": "code",
   "execution_count": 5,
   "id": "confidential-buying",
   "metadata": {},
   "outputs": [],
   "source": [
    "results_file = '../output/large_screen_results.h5ad'"
   ]
  },
  {
   "cell_type": "markdown",
   "id": "uniform-providence",
   "metadata": {},
   "source": [
    "### Read in the count matrix into an `AnnData`"
   ]
  },
  {
   "cell_type": "code",
   "execution_count": null,
   "id": "dramatic-auckland",
   "metadata": {},
   "outputs": [
    {
     "name": "stderr",
     "output_type": "stream",
     "text": [
      "--> This might be very slow. Consider passing `cache=True`, which enables much faster reading from a cache file.\n"
     ]
    }
   ],
   "source": [
    "adata = sc.read_10x_mtx('../data/large_screen/',\n",
    "                         var_names='gene_symbols',\n",
    "                         cache=True)"
   ]
  },
  {
   "cell_type": "code",
   "execution_count": null,
   "id": "dominant-pavilion",
   "metadata": {},
   "outputs": [],
   "source": []
  }
 ],
 "metadata": {
  "kernelspec": {
   "display_name": "Python 3",
   "language": "python",
   "name": "python3"
  },
  "language_info": {
   "codemirror_mode": {
    "name": "ipython",
    "version": 3
   },
   "file_extension": ".py",
   "mimetype": "text/x-python",
   "name": "python",
   "nbconvert_exporter": "python",
   "pygments_lexer": "ipython3",
   "version": "3.7.10"
  }
 },
 "nbformat": 4,
 "nbformat_minor": 5
}
