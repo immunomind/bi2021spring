{
 "cells": [
  {
   "cell_type": "code",
   "execution_count": 10,
   "id": "dependent-soviet",
   "metadata": {},
   "outputs": [],
   "source": [
    "n_values = 0 # count non na values in matrix\n",
    "n_rows = 0 \n",
    "n_cols = 0\n",
    "\n",
    "with open(f'../data/small_screen/matrix.mtx', 'w') as mtx:\n",
    "    mtx.write('%%MatrixMarket matrix coordinate real general\\n')\n",
    "    mtx.write('%\\n')                  \n",
    "\n",
    "    with open('../data/small_screen/GSM4150377_sciPlex2_A549_Transcription_Modulators_UMI.count.matrix') as raw_file:\n",
    "        raw_file.readline()\n",
    "        raw_file.readline()\n",
    "        for line in raw_file:\n",
    "            # read one line from .mtx\n",
    "            # and add it like an int value\n",
    "            # into a data list\n",
    "            data = list(map(int, line.split()))\n",
    "            n_values += 1\n",
    "            if n_rows < data[0]:\n",
    "                n_rows = data[0]\n",
    "            n_cols = data[1]\n",
    "        mtx.write(f'{n_rows}    {n_cols}    {n_values}\\n')\n",
    "\n",
    "    with open('../data/small_screen/GSM4150377_sciPlex2_A549_Transcription_Modulators_UMI.count.matrix') as file:\n",
    "        file.readline()\n",
    "        file.readline()\n",
    "        for line in file:\n",
    "            mtx.write(line)"
   ]
  },
  {
   "cell_type": "code",
   "execution_count": null,
   "id": "spanish-threshold",
   "metadata": {},
   "outputs": [],
   "source": []
  },
  {
   "cell_type": "code",
   "execution_count": null,
   "id": "peaceful-basis",
   "metadata": {},
   "outputs": [],
   "source": []
  }
 ],
 "metadata": {
  "kernelspec": {
   "display_name": "Python 3",
   "language": "python",
   "name": "python3"
  },
  "language_info": {
   "codemirror_mode": {
    "name": "ipython",
    "version": 3
   },
   "file_extension": ".py",
   "mimetype": "text/x-python",
   "name": "python",
   "nbconvert_exporter": "python",
   "pygments_lexer": "ipython3",
   "version": "3.7.10"
  }
 },
 "nbformat": 4,
 "nbformat_minor": 5
}
